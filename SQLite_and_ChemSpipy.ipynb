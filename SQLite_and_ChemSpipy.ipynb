{
 "cells": [
  {
   "cell_type": "markdown",
   "metadata": {},
   "source": [
    "# SQLite + Chemspipy"
   ]
  },
  {
   "cell_type": "markdown",
   "metadata": {},
   "source": [
    "    ## How to fetch chem compound data and store them in a mySQL db -primer"
   ]
  },
  {
   "cell_type": "code",
   "execution_count": 12,
   "metadata": {
    "collapsed": true
   },
   "outputs": [],
   "source": [
    "import sqlite3\n",
    "import pandas as pd\n",
    "import matplotlib.pyplot as plt"
   ]
  },
  {
   "cell_type": "code",
   "execution_count": 13,
   "metadata": {
    "collapsed": true
   },
   "outputs": [],
   "source": [
    "#if the database does not exist it will be created:"
   ]
  },
  {
   "cell_type": "code",
   "execution_count": 14,
   "metadata": {
    "collapsed": true
   },
   "outputs": [],
   "source": [
    "conn = sqlite3.connect('my_first_base.db')"
   ]
  },
  {
   "cell_type": "code",
   "execution_count": 15,
   "metadata": {
    "collapsed": true
   },
   "outputs": [],
   "source": [
    "# we create a first table :"
   ]
  },
  {
   "cell_type": "code",
   "execution_count": 16,
   "metadata": {
    "collapsed": true
   },
   "outputs": [],
   "source": [
    "# cursor creation + table creation + commit"
   ]
  },
  {
   "cell_type": "code",
   "execution_count": 17,
   "metadata": {
    "collapsed": true
   },
   "outputs": [],
   "source": [
    "cursor = conn.cursor()\n",
    "cursor.execute(\n",
    "\"\"\"\n",
    "CREATE TABLE IF NOT EXISTS chems(\n",
    "     id INTEGER PRIMARY KEY AUTOINCREMENT UNIQUE,\n",
    "     compound TEXT,\n",
    "     formula TEXT,\n",
    "     mass INTEGER)\n",
    "\"\"\"\n",
    ")\n",
    "\n",
    "conn.commit()"
   ]
  },
  {
   "cell_type": "code",
   "execution_count": null,
   "metadata": {
    "collapsed": true
   },
   "outputs": [],
   "source": [
    "# data insertion"
   ]
  },
  {
   "cell_type": "code",
   "execution_count": 18,
   "metadata": {
    "collapsed": true
   },
   "outputs": [],
   "source": [
    "try :\n",
    "    cursor.execute(\n",
    "    \"\"\"\n",
    "    INSERT INTO chems(compound, formula,mass) VALUES(?, ?, ?)\n",
    "    \"\"\", \n",
    "    (\"eau\", \"H2O\", \"18\")\n",
    "    )\n",
    "    conn.commit()\n",
    "except SyntaxError as e:\n",
    "    print(e)\n",
    "        \n"
   ]
  },
  {
   "cell_type": "code",
   "execution_count": 19,
   "metadata": {
    "collapsed": true
   },
   "outputs": [],
   "source": [
    "data = {\"a_name\" : \"sodium hypochloride\", \"a_formula\" : \"NaClO3\", \"a_mass\": 74}\n",
    "cursor.execute(\n",
    "\"\"\"\n",
    "INSERT OR IGNORE INTO chems(compound, formula,mass) VALUES(:a_name, :a_formula, :a_mass)\n",
    "\"\"\", data)\n",
    "conn.commit()"
   ]
  },
  {
   "cell_type": "code",
   "execution_count": 20,
   "metadata": {
    "collapsed": true
   },
   "outputs": [],
   "source": [
    "#add a list of compounds with \"executemany\""
   ]
  },
  {
   "cell_type": "code",
   "execution_count": 21,
   "metadata": {},
   "outputs": [],
   "source": [
    "my_compounds = []\n",
    "my_compounds.append((\"salt\", \"NaCl\", 58))\n",
    "my_compounds.append((\"carbon dioxide\", \"CO2\",44))\n",
    "\n",
    "cursor.executemany(\n",
    "\"\"\"\n",
    "INSERT OR IGNORE INTO chems(compound, formula,mass) VALUES(?, ?, ?)\n",
    "\"\"\", my_compounds)\n",
    "conn.commit()"
   ]
  },
  {
   "cell_type": "code",
   "execution_count": 22,
   "metadata": {},
   "outputs": [
    {
     "name": "stdout",
     "output_type": "stream",
     "text": [
      "(u'eau', u'H2O', 18)\n",
      "(u'sodium hypochloride', u'NaClO3', 74)\n",
      "(u'eau', u'H2O', 18)\n",
      "(u'sodium hypochloride', u'NaClO3', 74)\n",
      "(u'salt', u'NaCl', 58)\n",
      "(u'carbon dioxide', u'CO2', 44)\n"
     ]
    }
   ],
   "source": [
    "cursor.execute(\"\"\"SELECT compound, formula, mass FROM chems\"\"\")\n",
    "query1 = cursor.fetchall()\n",
    "print(\"\\n\".join([str(el) for el in query1]))"
   ]
  },
  {
   "cell_type": "code",
   "execution_count": 23,
   "metadata": {
    "collapsed": true
   },
   "outputs": [],
   "source": [
    "def select_all(tb=\"chems\"):\n",
    "    cursor.execute(\"\"\"SELECT * FROM {0}\"\"\".format(tb))\n",
    "    query2 = cursor.fetchall()\n",
    "    return(query2)"
   ]
  },
  {
   "cell_type": "code",
   "execution_count": 24,
   "metadata": {},
   "outputs": [
    {
     "data": {
      "text/plain": [
       "[(1, u'eau', u'H2O', 18),\n",
       " (2, u'sodium hypochloride', u'NaClO3', 74),\n",
       " (3, u'eau', u'H2O', 18),\n",
       " (4, u'sodium hypochloride', u'NaClO3', 74),\n",
       " (5, u'salt', u'NaCl', 58),\n",
       " (6, u'carbon dioxide', u'CO2', 44)]"
      ]
     },
     "execution_count": 24,
     "metadata": {},
     "output_type": "execute_result"
    }
   ],
   "source": [
    "select_all()"
   ]
  },
  {
   "cell_type": "code",
   "execution_count": 25,
   "metadata": {},
   "outputs": [
    {
     "name": "stdout",
     "output_type": "stream",
     "text": [
      "[(18,), (74,), (18,), (74,), (58,), (44,)]\n"
     ]
    }
   ],
   "source": [
    "cursor.execute(\"\"\"SELECT mass FROM chems\"\"\")\n",
    "query3 = cursor.fetchall()\n",
    "print(query3)"
   ]
  },
  {
   "cell_type": "code",
   "execution_count": 26,
   "metadata": {},
   "outputs": [
    {
     "name": "stdout",
     "output_type": "stream",
     "text": [
      "there was a mistake in ur query\n",
      "no such column: mas\n"
     ]
    }
   ],
   "source": [
    "my_id=2\n",
    "\n",
    "try:\n",
    "    cursor.execute(\"\"\"SELECT id,mas FROM chems WHERE id=?\"\"\", (my_id,))\n",
    "    response = cursor.fetchone()\n",
    "    print(response)\n",
    "except sqlite3.OperationalError as e:\n",
    "    print(\"there was a mistake in ur query\")\n",
    "    print(e)\n",
    "    "
   ]
  },
  {
   "cell_type": "code",
   "execution_count": 27,
   "metadata": {
    "collapsed": true
   },
   "outputs": [],
   "source": [
    "def remove_based_on_name_entries(my_removes=[\"assan\",\"jane\"]):\n",
    "    try:\n",
    "        for el in my_removes:\n",
    "            cursor.execute(\"\"\"DELETE FROM chems WHERE compound =?\"\"\", (str(el),))\n",
    "            print(\"the action was successful : {0} was removed\".format(str(el)))\n",
    "            \n",
    "    except sqlite3.OperationalError as e:\n",
    "        print(\"there was a mistake in ur query\")\n",
    "        print(e)\n",
    "        "
   ]
  },
  {
   "cell_type": "code",
   "execution_count": 28,
   "metadata": {},
   "outputs": [
    {
     "name": "stdout",
     "output_type": "stream",
     "text": [
      "the action was successful : assan was removed\n",
      "the action was successful : jane was removed\n"
     ]
    }
   ],
   "source": [
    "remove_based_on_name_entries()"
   ]
  },
  {
   "cell_type": "code",
   "execution_count": 29,
   "metadata": {
    "collapsed": true
   },
   "outputs": [],
   "source": [
    "#let's fetch the ouputted table to a pandas dataFrame"
   ]
  },
  {
   "cell_type": "code",
   "execution_count": 30,
   "metadata": {
    "collapsed": true
   },
   "outputs": [],
   "source": [
    "query=select_all(\"chems\")"
   ]
  },
  {
   "cell_type": "code",
   "execution_count": 31,
   "metadata": {},
   "outputs": [
    {
     "data": {
      "text/html": [
       "<div>\n",
       "<table border=\"1\" class=\"dataframe\">\n",
       "  <thead>\n",
       "    <tr style=\"text-align: right;\">\n",
       "      <th></th>\n",
       "      <th>name</th>\n",
       "      <th>formula</th>\n",
       "      <th>mass</th>\n",
       "    </tr>\n",
       "    <tr>\n",
       "      <th>id</th>\n",
       "      <th></th>\n",
       "      <th></th>\n",
       "      <th></th>\n",
       "    </tr>\n",
       "  </thead>\n",
       "  <tbody>\n",
       "    <tr>\n",
       "      <th>1</th>\n",
       "      <td>eau</td>\n",
       "      <td>H2O</td>\n",
       "      <td>18</td>\n",
       "    </tr>\n",
       "    <tr>\n",
       "      <th>2</th>\n",
       "      <td>sodium hypochloride</td>\n",
       "      <td>NaClO3</td>\n",
       "      <td>74</td>\n",
       "    </tr>\n",
       "    <tr>\n",
       "      <th>3</th>\n",
       "      <td>eau</td>\n",
       "      <td>H2O</td>\n",
       "      <td>18</td>\n",
       "    </tr>\n",
       "    <tr>\n",
       "      <th>4</th>\n",
       "      <td>sodium hypochloride</td>\n",
       "      <td>NaClO3</td>\n",
       "      <td>74</td>\n",
       "    </tr>\n",
       "    <tr>\n",
       "      <th>5</th>\n",
       "      <td>salt</td>\n",
       "      <td>NaCl</td>\n",
       "      <td>58</td>\n",
       "    </tr>\n",
       "    <tr>\n",
       "      <th>6</th>\n",
       "      <td>carbon dioxide</td>\n",
       "      <td>CO2</td>\n",
       "      <td>44</td>\n",
       "    </tr>\n",
       "  </tbody>\n",
       "</table>\n",
       "</div>"
      ],
      "text/plain": [
       "                   name formula  mass\n",
       "id                                   \n",
       "1                   eau     H2O    18\n",
       "2   sodium hypochloride  NaClO3    74\n",
       "3                   eau     H2O    18\n",
       "4   sodium hypochloride  NaClO3    74\n",
       "5                  salt    NaCl    58\n",
       "6        carbon dioxide     CO2    44"
      ]
     },
     "execution_count": 31,
     "metadata": {},
     "output_type": "execute_result"
    }
   ],
   "source": [
    "output_table=pd.DataFrame(query)\n",
    "output_table.columns=[\"id\",\"name\",\"formula\",\"mass\"]\n",
    "output_table.set_index('id', inplace=True)\n",
    "output_table"
   ]
  },
  {
   "cell_type": "code",
   "execution_count": 32,
   "metadata": {
    "collapsed": true
   },
   "outputs": [],
   "source": [
    "import chemspipy \n",
    "from chemspipy import ChemSpider as cs\n",
    "import base64"
   ]
  },
  {
   "cell_type": "code",
   "execution_count": 33,
   "metadata": {
    "collapsed": true
   },
   "outputs": [],
   "source": [
    "cs_session=cs(\"a99b4910-4d77-44df-a07a-e5833cfb6a0e\")"
   ]
  },
  {
   "cell_type": "code",
   "execution_count": 34,
   "metadata": {
    "collapsed": true
   },
   "outputs": [],
   "source": [
    "cs_gc=cs_session.search('Glucose')"
   ]
  },
  {
   "cell_type": "code",
   "execution_count": 35,
   "metadata": {
    "collapsed": true
   },
   "outputs": [],
   "source": [
    "def display_c(c_id=\"01\"):\n",
    "    with open (\"f.png\", 'wb') as f:\n",
    "        f.write(cs_session.get_compound_thumbnail(c_id))\n",
    "    img=plt.imread(\"f.png\")\n",
    "    plt.title(c_id)\n",
    "    plt.imshow(img)\n",
    "    plt.show()\n",
    "    "
   ]
  },
  {
   "cell_type": "code",
   "execution_count": 36,
   "metadata": {},
   "outputs": [
    {
     "data": {
      "image/png": "[encoded data removed]",
      "text/plain": [
       "<matplotlib.figure.Figure at 0x1135a7550>"
      ]
     },
     "metadata": {},
     "output_type": "display_data"
    },
    {
     "data": {
      "image/png": "[encoded data removed]",
      "text/plain": [
       "<matplotlib.figure.Figure at 0x115e39f90>"
      ]
     },
     "metadata": {},
     "output_type": "display_data"
    },
    {
     "data": {
      "image/png": "[encoded data removed]",
      "text/plain": [
       "<matplotlib.figure.Figure at 0x116026bd0>"
      ]
     },
     "metadata": {},
     "output_type": "display_data"
    },
    {
     "data": {
      "image/png": "[encoded data removed]",
      "text/plain": [
       "<matplotlib.figure.Figure at 0x11618f390>"
      ]
     },
     "metadata": {},
     "output_type": "display_data"
    },
    {
     "data": {
      "image/png": "[encoded data removed]",
      "text/plain": [
       "<matplotlib.figure.Figure at 0x11641d2d0>"
      ]
     },
     "metadata": {},
     "output_type": "display_data"
    },
    {
     "data": {
      "image/png": "[encoded data removed]",
      "text/plain": [
       "<matplotlib.figure.Figure at 0x116569f50>"
      ]
     },
     "metadata": {},
     "output_type": "display_data"
    },
    {
     "data": {
      "image/png": "[encoded data removed]",
      "text/plain": [
       "<matplotlib.figure.Figure at 0x11624ce50>"
      ]
     },
     "metadata": {},
     "output_type": "display_data"
    },
    {
     "data": {
      "image/png": "[encoded data removed]",
      "text/plain": [
       "<matplotlib.figure.Figure at 0x11283ff10>"
      ]
     },
     "metadata": {},
     "output_type": "display_data"
    },
    {
     "data": {
      "image/png": "[encoded data removed]",
      "text/plain": [
       "<matplotlib.figure.Figure at 0x116237c50>"
      ]
     },
     "metadata": {},
     "output_type": "display_data"
    },
    {
     "data": {
      "image/png": "[encoded data removed]",
      "text/plain": [
       "<matplotlib.figure.Figure at 0x100734350>"
      ]
     },
     "metadata": {},
     "output_type": "display_data"
    },
    {
     "data": {
      "image/png": "[encoded data removed]",
      "text/plain": [
       "<matplotlib.figure.Figure at 0x115ca8fd0>"
      ]
     },
     "metadata": {},
     "output_type": "display_data"
    },
    {
     "data": {
      "image/png": "[encoded data removed]",
      "text/plain": [
       "<matplotlib.figure.Figure at 0x1166c3b10>"
      ]
     },
     "metadata": {},
     "output_type": "display_data"
    },
    {
     "data": {
      "text/plain": [
       "[None, None, None, None, None, None, None, None, None, None, None, None]"
      ]
     },
     "execution_count": 36,
     "metadata": {},
     "output_type": "execute_result"
    }
   ],
   "source": [
    "[display_c(rs.csid) for rs in cs_gc]"
   ]
  },
  {
   "cell_type": "code",
   "execution_count": 37,
   "metadata": {},
   "outputs": [
    {
     "data": {
      "text/plain": [
       "[[5589, u'D-Glucopyranose', 180.1559],\n",
       " [58238, u'.beta.-D-Glucopyranose', 180.1559],\n",
       " [71358, u'.alpha.-D-Glucopyranose', 180.1559],\n",
       " [96749, u'D-(+)-Glucose', 180.1559],\n",
       " [2006622, u'L-glucopyranose', 180.1559],\n",
       " [5341883, u'alpha-L-Glucopyranose', 180.1559],\n",
       " [5360239, u'beta-L-Glucopyranose', 180.1559],\n",
       " [9129332, u'L-(&minus;)-Glucose', 180.1559],\n",
       " [9281077, u'D-Glucofuranose', 180.1559],\n",
       " [9312824, u'alpha-D-Glucofuranose', 180.1559],\n",
       " [9484839, u'beta-D-Glucofuranose', 180.1559],\n",
       " [9655623, u'L-Glucofuranose', 180.1559]]"
      ]
     },
     "execution_count": 37,
     "metadata": {},
     "output_type": "execute_result"
    }
   ],
   "source": [
    "[[rs.csid,rs.common_name,rs.average_mass] for rs in cs_gc]"
   ]
  },
  {
   "cell_type": "code",
   "execution_count": 38,
   "metadata": {
    "collapsed": true
   },
   "outputs": [],
   "source": [
    "my_compounds = [(rs.csid,rs.common_name,rs.average_mass) for rs in cs_gc]\n",
    "cursor.executemany(\n",
    "\"\"\"\n",
    "INSERT INTO chems(compound, formula,mass) VALUES(?, ?, ?)\n",
    "\"\"\", my_compounds)\n",
    "conn.commit()"
   ]
  },
  {
   "cell_type": "code",
   "execution_count": 40,
   "metadata": {
    "collapsed": true
   },
   "outputs": [],
   "source": [
    "# cursor creation + table deletion + commit"
   ]
  },
  {
   "cell_type": "code",
   "execution_count": 41,
   "metadata": {
    "collapsed": true
   },
   "outputs": [],
   "source": [
    "cursor = conn.cursor()\n",
    "cursor.execute(\n",
    "\"\"\"\n",
    "DROP TABLE chems\n",
    "\"\"\")\n",
    "conn.commit()"
   ]
  },
  {
   "cell_type": "code",
   "execution_count": 42,
   "metadata": {
    "collapsed": true
   },
   "outputs": [],
   "source": [
    "#close the connection to the database"
   ]
  },
  {
   "cell_type": "code",
   "execution_count": 287,
   "metadata": {
    "collapsed": true
   },
   "outputs": [],
   "source": [
    "conn.close()"
   ]
  }
 ],
 "metadata": {
  "anaconda-cloud": {},
  "kernelspec": {
   "display_name": "Python [default]",
   "language": "python",
   "name": "python2"
  },
  "language_info": {
   "codemirror_mode": {
    "name": "ipython",
    "version": 2
   },
   "file_extension": ".py",
   "mimetype": "text/x-python",
   "name": "python",
   "nbconvert_exporter": "python",
   "pygments_lexer": "ipython2",
   "version": "2.7.10"
  }
 },
 "nbformat": 4,
 "nbformat_minor": 1
}
