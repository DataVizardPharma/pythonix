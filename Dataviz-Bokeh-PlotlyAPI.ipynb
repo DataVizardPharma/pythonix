{
 "cells": [
  {
   "cell_type": "markdown",
   "metadata": {},
   "source": [
    "# Dataviz: Bokeh - PlotlyAPI"
   ]
  },
  {
   "cell_type": "markdown",
   "metadata": {},
   "source": [
    "## Bokeh:  part 1"
   ]
  },
  {
   "cell_type": "markdown",
   "metadata": {},
   "source": [
    "### I) dependencies"
   ]
  },
  {
   "cell_type": "markdown",
   "metadata": {},
   "source": [
    "#### imports"
   ]
  },
  {
   "cell_type": "code",
   "execution_count": 5,
   "metadata": {
    "collapsed": true
   },
   "outputs": [],
   "source": [
    "import bokeh\n",
    "from bokeh.io import output_file, show\n",
    "from bokeh.layouts import gridplot\n",
    "from bokeh.palettes import Viridis3\n",
    "from bokeh.plotting import figure, Figure, output_file, show\n",
    "from bokeh.layouts import widgetbox,column,Column\n",
    "from bokeh.models.widgets import Button, RadioButtonGroup, Select, Slider\n",
    "from bokeh.models import Circle,Line\n",
    "from bokeh.models import HoverTool\n",
    "\n",
    "from bokeh.models.formatters import DatetimeTickFormatter\n",
    "\n",
    "\n",
    "from bokeh.sampledata.stocks import AAPL\n",
    "from bokeh.layouts import layout\n",
    "from bokeh.models import  Slider, ColumnDataSource, WidgetBox\n",
    "from bokeh.models.callbacks import CustomJS\n",
    "from math import pi\n",
    "\n",
    "import pandas as pd\n",
    "import numpy as np\n",
    "import datetime"
   ]
  },
  {
   "cell_type": "markdown",
   "metadata": {},
   "source": [
    "### II) Simple Graphs"
   ]
  },
  {
   "cell_type": "markdown",
   "metadata": {},
   "source": [
    "#### scatter plots"
   ]
  },
  {
   "cell_type": "code",
   "execution_count": null,
   "metadata": {
    "collapsed": true
   },
   "outputs": [],
   "source": [
    "from bokeh.plotting import figure, output_file, show\n",
    "\n",
    "# data series\n",
    "x = [0.1, 0.5, 1.0, 1.5, 2.0, 2.5, 3.0]\n",
    "y0 = [i**2 for i in x]\n",
    "y1 = [10**i for i in x]\n",
    "y2 = [10**(i**2) for i in x]\n",
    "\n",
    "# output to static HTML file\n",
    "output_file(\"log_lines.html\")\n",
    "\n",
    "# create a new plot\n",
    "p = figure(\n",
    "   tools=\"pan,box_zoom,reset,save\",\n",
    "   y_axis_type=\"log\", y_range=[0.001, 10**11], title=\"log axis example\",\n",
    "   x_axis_label='sections', y_axis_label='particles'\n",
    ")\n",
    "\n",
    "# add some renderers\n",
    "p.line(x, x, legend=\"y=x\")\n",
    "p.circle(x, x, legend=\"y=x\", fill_color=\"white\", size=8)\n",
    "p.line(x, y0, legend=\"y=x^2\", line_width=3)\n",
    "p.line(x, y1, legend=\"y=10^x\", line_color=\"red\")\n",
    "p.circle(x, y1, legend=\"y=10^x\", fill_color=\"red\", line_color=\"red\", size=6)\n",
    "p.line(x, y2, legend=\"y=10^x^2\", line_color=\"orange\", line_dash=\"4 4\")\n",
    "\n",
    "# show the results\n",
    "show(p)"
   ]
  },
  {
   "cell_type": "markdown",
   "metadata": {},
   "source": [
    "#### Normal law plot"
   ]
  },
  {
   "cell_type": "code",
   "execution_count": null,
   "metadata": {
    "collapsed": true
   },
   "outputs": [],
   "source": [
    "mu, sigma = 0, 0.5\n",
    "\n",
    "measured = np.random.normal(mu, sigma, 1000)\n",
    "hist, edges = np.histogram(measured, density=True, bins=50)"
   ]
  },
  {
   "cell_type": "code",
   "execution_count": null,
   "metadata": {
    "collapsed": true
   },
   "outputs": [],
   "source": [
    "x = np.linspace(-2, 2, 1000)\n",
    "pdf = 1/(sigma * np.sqrt(2*np.pi)) * np.exp(-(x-mu)**2 / (2*sigma**2))\n",
    "\n",
    "#Column Data source from which data will be fed\n",
    "source = ColumnDataSource(data=dict(\n",
    "left=edges[:-1],\n",
    "right=edges[1:],\n",
    "top=hist,\n",
    "\n",
    "))\n",
    "\n",
    "#tooltip\n",
    "hover = HoverTool(tooltips=[\n",
    "(\"index\", \"$index\"),\n",
    "(\"value\",\"@top\"),\n",
    "(\"desc\", \"@left\"),\n",
    "])\n",
    "\n",
    "\n",
    "#figure area with particular tools\n",
    "p = figure(tools=['reset','box_zoom','save','pan',hover])\n",
    "\n",
    "#histogram plot\n",
    "p.quad(bottom=0,top='top',left='left',right='right',source=source,\n",
    "       fill_color=\"#036564\", line_color=\"#033649\",legend=\"hist\")\n",
    "#line plot\n",
    "p.line(x,pdf, line_color=\"#D95B43\", line_width=4, line_alpha=0.4,legend=\"PDF\")\n",
    "\n",
    "#legend\n",
    "p.legend.location = \"top_right\"\n",
    "\n",
    "#miscellaneous\n",
    "p.background_fill_color = \"#E8DDCB\"\n",
    "p.background_fill_alpha = 0.4\n",
    "\n",
    "show(p)\n",
    "output_file('palette.html')"
   ]
  },
  {
   "cell_type": "markdown",
   "metadata": {},
   "source": [
    "### III) Example 1:"
   ]
  },
  {
   "cell_type": "markdown",
   "metadata": {},
   "source": [
    "#### dataset download"
   ]
  },
  {
   "cell_type": "code",
   "execution_count": null,
   "metadata": {
    "collapsed": true
   },
   "outputs": [],
   "source": [
    "try:\n",
    "    bokeh.sampledata.download()\n",
    "except:\n",
    "    print(\"not good connection, timeout\")"
   ]
  },
  {
   "cell_type": "markdown",
   "metadata": {
    "collapsed": true
   },
   "source": [
    "#### 2 top Graphs : close  and data (+ bands at 0.6.std) "
   ]
  },
  {
   "cell_type": "code",
   "execution_count": null,
   "metadata": {
    "collapsed": true
   },
   "outputs": [],
   "source": [
    "df = pd.DataFrame(AAPL)"
   ]
  },
  {
   "cell_type": "code",
   "execution_count": null,
   "metadata": {
    "collapsed": true
   },
   "outputs": [],
   "source": [
    "df.head()"
   ]
  },
  {
   "cell_type": "markdown",
   "metadata": {},
   "source": [
    " ##### Quick and dirty way (not to be done)"
   ]
  },
  {
   "cell_type": "code",
   "execution_count": null,
   "metadata": {
    "collapsed": true
   },
   "outputs": [],
   "source": [
    "#Dataset\n",
    "df = pd.DataFrame(AAPL)\n",
    "df['date2'] = pd.to_datetime(df['date'])\n",
    "\n",
    "#Output specification\n",
    "output_file(\"dirty_way.html\")\n"
   ]
  },
  {
   "cell_type": "code",
   "execution_count": null,
   "metadata": {
    "collapsed": true
   },
   "outputs": [],
   "source": [
    "# create a new plot with a datetime axis type\n",
    "p = figure(plot_width=800, plot_height=250, x_axis_type=\"datetime\")\n",
    "p.title.text = \"Simple graph close = f(t)\"\n",
    "p.line(df['date2'], df['close'], color='navy', alpha=0.5)\n",
    "\n",
    "show(p)"
   ]
  },
  {
   "cell_type": "markdown",
   "metadata": {},
   "source": [
    "#### The right way : Let's enclose the logic in 2 functions"
   ]
  },
  {
   "cell_type": "code",
   "execution_count": null,
   "metadata": {
    "collapsed": true
   },
   "outputs": [],
   "source": [
    "def stock_close():\n",
    "    \n",
    "    #Data conversion\n",
    "    df = pd.DataFrame(AAPL)\n",
    "    df['date2'] = pd.to_datetime(df['date'])\n",
    "\n",
    "    #Column Data Source creation\n",
    "    source = ColumnDataSource(data=dict(\n",
    "    x=df['date2'],\n",
    "    y=df['close'],\n",
    "    z_plus=df['close']+0.6*np.array(df['close']).std(),\n",
    "    z_moins=df['close']-0.6*np.array(df['close']).std(),\n",
    "    desc=[el.strftime(\"%Y-%m-%d %H:%M:%S\") for el in df['date2']]\n",
    "    ))\n",
    "\n",
    "    \n",
    "    #Tooltip part\n",
    "    hover = HoverTool(tooltips=[\n",
    "    (\"index\", \"$index\"),\n",
    "    (\"value\",\"$\"+\"@y\"),\n",
    "    (\"desc\", \"@desc\"),\n",
    "    ])\n",
    "\n",
    " \n",
    "\n",
    "    # create a new plot with a datetime axis type\n",
    "    p1 = figure(plot_width=250, plot_height=250, x_axis_type=\"datetime\",tools=['reset','box_zoom','save','pan',hover])\n",
    "    p1.title.text = 'closing values (stock market)'\n",
    "    \n",
    "    p1.cross('x','y',line_color='navy', alpha=0.5,fill_color='white', line_width=1,name=\"close_data\", source=source)\n",
    "  \n",
    "    p1.line( 'x','y',line_color='navy', alpha=0.1, line_width=0.5,source=source)\n",
    "    p1.line('x','z_plus', color='grey', alpha=0.1,name=\"close_data_sup\", source=source)\n",
    "    p1.line('x','z_moins', color='grey', alpha=0.1,name=\"close_data_inf\", source=source)\n",
    "\n",
    "    p1.border_fill_color = \"whitesmoke\"\n",
    "\n",
    "    return([p1])"
   ]
  },
  {
   "cell_type": "code",
   "execution_count": null,
   "metadata": {
    "collapsed": true
   },
   "outputs": [],
   "source": [
    "def stock_open():\n",
    "    \n",
    "    #Data conversion\n",
    "    df = pd.DataFrame(AAPL)\n",
    "    df['date2'] = pd.to_datetime(df['date'])\n",
    "    \n",
    "    #Data source part\n",
    "    source = ColumnDataSource(data=dict(\n",
    "    x=df['date2'],\n",
    "    y=df['open'],\n",
    "    z_plus=df['open']+0.6*np.array(df['open']).std(),\n",
    "    z_moins=df['open']-0.6*np.array(df['open']).std(),\n",
    "    desc=[el.strftime(\"%Y-%m-%d %H:%M:%S\") for el in df['date2']]\n",
    "    ))\n",
    "\n",
    "    #Tooltip part\n",
    "    hover = HoverTool(tooltips=[\n",
    "    (\"index\", \"$index\"),\n",
    "    (\"value\",\"$\"+\"@y\"),\n",
    "    (\"desc\", \"@desc\"),\n",
    "    ])\n",
    "\n",
    "    \n",
    "    # create a new plot with a datetime axis type\n",
    "    p2 = figure(plot_width=250, plot_height=250, x_axis_type=\"datetime\",tools=['reset','box_zoom','save','pan',hover])\n",
    "    p2.title.text = 'opening values (stock market)'\n",
    "    p2.line( 'x','y',line_color='green', alpha=0.1, line_width=0.5,source=source)\n",
    "    p2.cross('x','y',line_color='green', alpha=0.5,fill_color='white', line_width=1,name=\"open_data\", source=source)\n",
    "    p2.line('x','z_plus', color='grey', alpha=0.1,name=\"open_data_sup\", source=source)\n",
    "    p2.line('x','z_moins', color='grey', alpha=0.1,name=\"open_data_inf\", source=source)\n",
    "\n",
    "    p2.border_fill_color = \"whitesmoke\"\n",
    "\n",
    "    return([p2])"
   ]
  },
  {
   "cell_type": "code",
   "execution_count": null,
   "metadata": {
    "collapsed": true
   },
   "outputs": [],
   "source": [
    "# 1 bottom Graph: difference between open and close values\n",
    "# it allows us to emphasize the 2 main volatile events"
   ]
  },
  {
   "cell_type": "code",
   "execution_count": null,
   "metadata": {
    "collapsed": true
   },
   "outputs": [],
   "source": [
    "def close_open_diff():\n",
    "    #Data conversion\n",
    "    df = pd.DataFrame(AAPL)\n",
    "    df['date2'] = pd.to_datetime(df['date'])\n",
    "    desc=[el.strftime(\"%Y-%m-%d\") for el in df['date2']]\n",
    "    \n",
    "    #colors range creation based on condition\n",
    "    l=[]\n",
    "    for i in range(len(df['open'])):\n",
    "        if df['open'][i]>df['close'][i]:\n",
    "            l.append(\"green\")\n",
    "        else:\n",
    "            l.append(\"red\") \n",
    "            \n",
    "    #alpha range creation based on calculation \n",
    "    m=np.array(df['open']- df['close']).max()*0.5\n",
    "    alphas=(df['open']-df['close'])/m\n",
    "    \n",
    "    #Data source part\n",
    "    source2 = ColumnDataSource(data=dict(\n",
    "    x=df['date2'] ,\n",
    "    y=df['open']-df['close'],\n",
    "    col=l,\n",
    "    alphas=alphas,\n",
    "    desc=desc\n",
    "    ))\n",
    "    \n",
    "    #Tooltip part\n",
    "    hover = HoverTool(tooltips=[\n",
    "    (\"index\", \"$index\"),\n",
    "    (\"value\",\"$\"+\"@y\"),\n",
    "    (\"desc\", \"@desc\"),\n",
    "    ])\n",
    "\n",
    "    #Graph construction part (with colors, alpha, x , y fed by ColumDataSource)\n",
    "    p3 = figure(plot_width=500, plot_height=500, x_axis_type=\"datetime\",tools=['reset','box_zoom','save','pan',hover])\n",
    "    p3.title.text = 'open-close'\n",
    "\n",
    "    p3.inverted_triangle('x', 'y',source=source2,fill_color=l, fill_alpha=alphas)\n",
    "\n",
    "    p3.border_fill_color = \"whitesmoke\"\n",
    "\n",
    "    return([p3])"
   ]
  },
  {
   "cell_type": "code",
   "execution_count": null,
   "metadata": {
    "collapsed": true
   },
   "outputs": [],
   "source": [
    "#final part: Layout displaying the graphs \n",
    "l = layout([\n",
    "    stock_open(),stock_close(),close_open_diff()\n",
    "], sizing_mode='stretch_both')\n",
    "output_file(\"clean_way.html\")\n",
    "show(l)"
   ]
  },
  {
   "cell_type": "markdown",
   "metadata": {},
   "source": [
    "### Example 2 : Let's define a moving average (with an ajustable window)"
   ]
  },
  {
   "cell_type": "code",
   "execution_count": 10,
   "metadata": {
    "collapsed": true
   },
   "outputs": [],
   "source": [
    "def MA(y,window_length=3):\n",
    "    weights_list= np.repeat(1.0,window_length)/window_length\n",
    "    result=np.convolve(weights_list,y[::-1],'valid')\n",
    "    result=result[::-1]\n",
    "    return(result)"
   ]
  },
  {
   "cell_type": "code",
   "execution_count": 11,
   "metadata": {
    "collapsed": true
   },
   "outputs": [],
   "source": [
    "def bollinger(window_of_ma=3):\n",
    "    \n",
    "    upperband = np.random.randint(0, 10,100)\n",
    "    lowerband = upperband - 10\n",
    "    x_data = np.arange(1, 101)\n",
    "    window_of_ma = window_of_ma if window_of_ma >=0 else 1\n",
    "    ma_= MA((upperband+lowerband)*0.5,window_of_ma)\n",
    "    \n",
    "    #Data source part\n",
    "    source2 = ColumnDataSource(data=dict(\n",
    "    x_= x_data[window_of_ma-1:] ,\n",
    "    y1_= ma_,\n",
    "    y2_=upperband[window_of_ma-1:],\n",
    "    y3_=lowerband[window_of_ma-1:]\n",
    "    ))\n",
    "    \n",
    "    #Tooltip part\n",
    "    hover = HoverTool(tooltips=[\n",
    "    (\"index\", \"$index\"),\n",
    "    (\"value ($) \",\"@y1_\"),\n",
    "    (\"value upper-end ($) \",\"@y2_\"),\n",
    "    (\"value lower-end ($) \",\"@y3_\")  \n",
    "    ])\n",
    "    \n",
    "    \n",
    "    # Bollinger shading glyph:\n",
    "    band_x = np.append(x_data, x_data[::-1])\n",
    "    band_y = np.append(lowerband, upperband[::-1])\n",
    "\n",
    "    p = figure(x_axis_type='datetime',tools=['box_zoom','pan','reset','save',hover])\n",
    "    p.patch(band_x, band_y, color='#7570B3', fill_alpha=0.2,line_width=0.5)\n",
    "    \n",
    "    p.line('x_','y1_',source=source2, line_width=0.5, alpha=0.5, color='firebrick')\n",
    "    \n",
    "    p.title.text = 'Bollinger Bands'\n",
    "    p.title_location = 'left'\n",
    "    p.title.align = 'left'\n",
    "    \n",
    "    # this could have been defined at the figure level\n",
    "    p.plot_height = 600\n",
    "    p.plot_width = 800\n",
    "    \n",
    "    # miscellaneous\n",
    "    p.grid.grid_line_alpha = 0.1\n",
    "    p.yaxis.major_label_text_color = \"darkturquoise\"\n",
    "    \n",
    "    p.background_fill_color = \"beige\"\n",
    "    p.background_fill_alpha = 0.1\n",
    "    return [p]\n",
    "\n"
   ]
  },
  {
   "cell_type": "code",
   "execution_count": 12,
   "metadata": {
    "collapsed": true
   },
   "outputs": [],
   "source": [
    "\n",
    "def linked_panning():\n",
    "    \n",
    "    # calculation part\n",
    "    angles=[]\n",
    "    colors=[]\n",
    "    N = 100\n",
    "    x = np.linspace(0, 4 * np.pi, N)\n",
    "    y1 = np.sin(x)\n",
    "    y2 = np.cos(x)\n",
    "    y3 = np.sin(x) + np.cos(x)\n",
    "    for el in y2:\n",
    "        if el<0:\n",
    "            angles.append(pi/3)\n",
    "            colors.append('firebrick')\n",
    "        else:\n",
    "            angles.append(0)\n",
    "            colors.append('green')\n",
    "            \n",
    "     \n",
    "    #Data source part\n",
    "    source2 = ColumnDataSource(data=dict(\n",
    "    x_= x ,\n",
    "    y1_= y1,\n",
    "    y2_= y2,\n",
    "    y3_= y3,\n",
    "    angles_= angles,\n",
    "    colors_= colors,\n",
    "    sizes_= 8*abs(y2)/y2.max(),\n",
    "    alphas_=abs(y1)/y1.max()\n",
    "    ))\n",
    "    \n",
    "\n",
    "    #Tooltip part\n",
    "    #they can't be shared=> 1 tooltip per graph!\n",
    "    hover = HoverTool(tooltips=[\n",
    "    (\"index\", \"$index\"),\n",
    "    (\"value from graph 1 \",\"(€) \"+\"@y1_\")\n",
    "    ])\n",
    "    \n",
    "    hover2 = HoverTool(tooltips=[\n",
    "    (\"index\", \"$index\"),\n",
    "    (\"value from graph 2 \",\"(£) \"+\"@y2_\"),\n",
    "    (\"value from graph 3 \",\"($) \"+\"@y3_\")])\n",
    "    \n",
    "    hover3 = HoverTool(tooltips=[\n",
    "    (\"index\", \"$index\"),\n",
    "    (\"value from graph 1 \",\"(€) \"+\"@y1_\"),\n",
    "    (\"value from graph 3 \",\"($) \"+\"@y3_\")])\n",
    "    \n",
    "    def make_tools(x):\n",
    "        tools_=['box_select','box_zoom','pan','reset','save',x]\n",
    "        return tools_\n",
    "     \n",
    "    #Graph creation      \n",
    "    #Graph 1: scatterplot\n",
    "    s1 = figure(tools=make_tools(hover),plot_width=400, plot_height=400)\n",
    "    s1.circle('x_', 'y1_',source=source2, color=\"orange\", size=10, alpha='alphas_')\n",
    "    s1.title.text = 'graph n°1'\n",
    "    s1.title_location = 'left'\n",
    "    s1.title.align = 'left'\n",
    "    s1.background_fill_color = \"beige\"\n",
    "    s1.background_fill_alpha = 0.1\n",
    "    s1.yaxis.major_label_text_color = \"darkturquoise\"\n",
    "    \n",
    "    \n",
    "    #Graph 2: scatterplot ( markers size and colors change with values)\n",
    "    s2 = figure(tools=make_tools(hover2),x_range=s1.x_range, y_range=s1.y_range)\n",
    "    s2.triangle('x_', 'y2_',source=source2, color='colors_', size='sizes_', alpha=0.5, angle='angles_')\n",
    "    s2.title.text = 'graph n°2'\n",
    "    s2.title_location = 'left'\n",
    "    s2.title.align = 'left'\n",
    "    s2.background_fill_color = \"beige\"\n",
    "    s2.background_fill_alpha = 0.1\n",
    "    s2.yaxis.major_label_text_color = \"darkturquoise\"\n",
    "\n",
    "\n",
    "    #Graph 3: scatterplot\n",
    "    s3 = figure(tools=make_tools(hover3),x_range=s1.x_range, y_range=s1.y_range)\n",
    "    s3.cross('x_', 'y3_',source=source2, color=\"green\", size=10, alpha=0.5)\n",
    "    s3.title.text = 'graph n°3'\n",
    "    s3.title_location = 'left'\n",
    "    s3.title.align = 'left'\n",
    "    s3.yaxis.major_label_text_color = \"darkturquoise\"\n",
    "    s3.background_fill_color = \"beige\"\n",
    "    s3.background_fill_alpha = 0.1\n",
    "    \n",
    "    #return(layout)\n",
    "    return [s1, s2, s3]"
   ]
  },
  {
   "cell_type": "code",
   "execution_count": 13,
   "metadata": {
    "collapsed": true
   },
   "outputs": [],
   "source": [
    "l = layout([\n",
    "    bollinger(),linked_panning()\n",
    "], sizing_mode='stretch_both')\n",
    "show(l)"
   ]
  },
  {
   "cell_type": "markdown",
   "metadata": {},
   "source": [
    "### Example 3 : Let's make a plot with a widget (alpha version)"
   ]
  },
  {
   "cell_type": "code",
   "execution_count": 14,
   "metadata": {
    "collapsed": true
   },
   "outputs": [],
   "source": [
    "# at this point, one must refresh to see the changes taking action\n",
    "# to be improved (unstable)"
   ]
  },
  {
   "cell_type": "code",
   "execution_count": 15,
   "metadata": {},
   "outputs": [
    {
     "name": "stderr",
     "output_type": "stream",
     "text": [
      "INFO:bokeh.core.state:Session output file 'callback.html' already exists, will be overwritten.\n"
     ]
    }
   ],
   "source": [
    "from bokeh.layouts import column\n",
    "from bokeh.models import CustomJS, ColumnDataSource, Slider\n",
    "from bokeh.plotting import Figure, output_file, show\n",
    "\n",
    "output_file(\"callback.html\")\n",
    "\n",
    "x = [x*0.005 for x in range(0, 200)]\n",
    "y = np.repeat(0,200)\n",
    "\n",
    "source = ColumnDataSource(data=dict(x=x, y=y))\n",
    "\n",
    "plot = Figure(plot_width=400, plot_height=400)\n",
    "plot.line('x', 'y', source=source, line_width=3, line_alpha=0.6)\n",
    "plot.title.text = 'translation  slider widget'\n",
    "\n",
    "\n",
    "def callback(source=source, window=None):\n",
    "    data = source.data\n",
    "    mu = cb_obj.value\n",
    "    x, y = data['x'], data['y']\n",
    "    for i in range(len(x)):\n",
    "        y[i] = mu/10\n",
    "    source.change.emit()\n",
    "\n",
    "slider = Slider(start=0.1, end=4, value=1, step=.1, title=\"translation\",\n",
    "                callback=CustomJS.from_py_func(callback))\n",
    "\n",
    "layout = column(slider, plot)\n",
    "\n",
    "show(layout)"
   ]
  },
  {
   "cell_type": "markdown",
   "metadata": {},
   "source": [
    "## Plotly API:  part 2"
   ]
  },
  {
   "cell_type": "markdown",
   "metadata": {},
   "source": [
    "### imports"
   ]
  },
  {
   "cell_type": "code",
   "execution_count": 16,
   "metadata": {
    "collapsed": true
   },
   "outputs": [],
   "source": [
    "import plotly \n",
    "import plotly.plotly as py\n",
    "import plotly.graph_objs as go\n",
    "\n",
    "#I usually do not put my credentials but for you to review and check:\n",
    "#It is also used in the sklearn tensorflow tutorial\n",
    "#I'm using a community subscription (very limited)=> can be upgraded ($).\n",
    "# I removed the api_key and user name\n",
    "\n",
    "plotly.tools.set_credentials_file(username='', api_key='')"
   ]
  },
  {
   "cell_type": "markdown",
   "metadata": {},
   "source": [
    "### plots"
   ]
  },
  {
   "cell_type": "markdown",
   "metadata": {},
   "source": [
    "#### Example 1"
   ]
  },
  {
   "cell_type": "code",
   "execution_count": null,
   "metadata": {
    "collapsed": true
   },
   "outputs": [],
   "source": [
    "# 4 series: x_theo,sincx,x,y\n",
    "\n",
    "x_theo = np.linspace(-4, 4, 100)\n",
    "sincx = np.sinc(x_theo)\n",
    "x = [-3.8, -3.03, -1.91, -1.46, -0.89, -0.24, -0.0, 0.41, 0.89, 1.01, 1.91, 2.28, 2.79, 3.56]\n",
    "y = [-0.02, 0.04, -0.01, -0.27, 0.36, 0.75, 1.03, 0.65, 0.28, 0.02, -0.11, 0.16, 0.04, -0.15]\n",
    "\n",
    "#plot 1\n",
    "trace1 = go.Scatter(\n",
    "    x=x_theo,\n",
    "    y=sincx,\n",
    "    name='sinc(x)',\n",
    "    \n",
    ")\n",
    "#plot 2\n",
    "trace2 = go.Scatter(\n",
    "    x=x,\n",
    "    y=y,\n",
    "    text= 'Trucmuche',\n",
    "    mode='markers',\n",
    "    name='calculated',\n",
    "    error_y=dict(\n",
    "        type='percent',\n",
    "        value=10,\n",
    "        color='#85144B',\n",
    "        thickness=1.5,\n",
    "        width=3,\n",
    "        opacity=1,\n",
    "        visible=True\n",
    "    ),\n",
    "    marker=dict(\n",
    "        color='#85144B',\n",
    "        size=5,\n",
    "        \n",
    "    )\n",
    ")\n",
    "# necessary to declare data as a list of plots\n",
    "data = [trace1, trace2]\n",
    "\n",
    "#plot in the notebook\n",
    "py.iplot(data, filename='error-bar-style')"
   ]
  }
 ],
 "metadata": {
  "anaconda-cloud": {},
  "kernelspec": {
   "display_name": "Python [default]",
   "language": "python",
   "name": "python2"
  },
  "language_info": {
   "codemirror_mode": {
    "name": "ipython",
    "version": 2
   },
   "file_extension": ".py",
   "mimetype": "text/x-python",
   "name": "python",
   "nbconvert_exporter": "python",
   "pygments_lexer": "ipython2",
   "version": "2.7.10"
  }
 },
 "nbformat": 4,
 "nbformat_minor": 2
}
